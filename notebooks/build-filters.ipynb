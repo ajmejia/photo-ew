{
 "cells": [
  {
   "cell_type": "code",
   "execution_count": 1,
   "metadata": {},
   "outputs": [
    {
     "name": "stdout",
     "output_type": "stream",
     "text": [
      "Populating the interactive namespace from numpy and matplotlib\n"
     ]
    }
   ],
   "source": [
    "%pylab inline\n",
    "\n",
    "import pandas as pd\n",
    "import os\n",
    "\n",
    "from collections import OrderedDict"
   ]
  },
  {
   "cell_type": "code",
   "execution_count": 2,
   "metadata": {},
   "outputs": [],
   "source": [
    "rdir = os.path.expandvars(\"$HOME/Research/photometric-ew\")\n",
    "\n",
    "sdss_res = loadtxt(\"{}/data/SDSS_filters.txt\".format(rdir))\n",
    "sdss_res = [\n",
    "    sdss_res[:47],\n",
    "    sdss_res[47:47+89],\n",
    "    sdss_res[47+89:47+89+75],\n",
    "    sdss_res[47+89+75:47+89+75+89],\n",
    "    sdss_res[47+89+75+89:]\n",
    "]\n",
    "jpas = open(\"{}/data/JPAS_filters.txt\".format(rdir)).readlines()\n",
    "\n",
    "mask = [False if item.startswith(\"#\") else True for item in jpas]\n",
    "jpas_res = []\n",
    "for i in xrange(mask.count(False)):\n",
    "    try:\n",
    "        ini = mask.index(False); mask.remove(False)\n",
    "        fin = mask.index(False)\n",
    "        \n",
    "        jpas_res.append(np.array([eval(item.replace(\"  \", \",\")) for item in jpas[ini+1+i:fin+1+i]]))\n",
    "        \n",
    "    except ValueError:\n",
    "        jpas_res.append(np.array([eval(item.replace(\"  \", \",\")) for item in jpas[ini+1+i:]]))"
   ]
  },
  {
   "cell_type": "code",
   "execution_count": 3,
   "metadata": {},
   "outputs": [],
   "source": [
    "sdss_filters = [\"u\", \"g\", \"r\", \"i\", \"z\"]\n",
    "jpas_filters = [\"JP{0:02d}\".format(1+i) for i in xrange(len(jpas_res))]"
   ]
  },
  {
   "cell_type": "code",
   "execution_count": 4,
   "metadata": {},
   "outputs": [],
   "source": [
    "surveys = []\n",
    "filters = []\n",
    "for j, filter_name in enumerate(sdss_filters):\n",
    "    filters += [filter_name]*sdss_res[j].shape[0]\n",
    "surveys += [\"SDSS\"]*len(filters)\n",
    "for j, filter_name in enumerate(jpas_filters):\n",
    "    filters += [filter_name]*jpas_res[j].shape[0]\n",
    "surveys += [\"J-PAS\"]*(len(filters)-len(surveys))\n",
    "\n",
    "responses = vstack(sdss_res+jpas_res)"
   ]
  },
  {
   "cell_type": "code",
   "execution_count": 5,
   "metadata": {},
   "outputs": [],
   "source": [
    "data = OrderedDict(\n",
    "    zip(\n",
    "        (\"survey\", \"filter\", \"wavelength\", \"response\"),\n",
    "        (surveys, filters, responses[:, 0], responses[:, 1])\n",
    "    )\n",
    ")\n",
    "df = pd.DataFrame(data)"
   ]
  },
  {
   "cell_type": "code",
   "execution_count": 6,
   "metadata": {},
   "outputs": [
    {
     "data": {
      "text/html": [
       "<div>\n",
       "<style scoped>\n",
       "    .dataframe tbody tr th:only-of-type {\n",
       "        vertical-align: middle;\n",
       "    }\n",
       "\n",
       "    .dataframe tbody tr th {\n",
       "        vertical-align: top;\n",
       "    }\n",
       "\n",
       "    .dataframe thead th {\n",
       "        text-align: right;\n",
       "    }\n",
       "</style>\n",
       "<table border=\"1\" class=\"dataframe\">\n",
       "  <thead>\n",
       "    <tr style=\"text-align: right;\">\n",
       "      <th></th>\n",
       "      <th>survey</th>\n",
       "      <th>filter</th>\n",
       "      <th>wavelength</th>\n",
       "      <th>response</th>\n",
       "    </tr>\n",
       "  </thead>\n",
       "  <tbody>\n",
       "    <tr>\n",
       "      <th>0</th>\n",
       "      <td>SDSS</td>\n",
       "      <td>u</td>\n",
       "      <td>2980.0</td>\n",
       "      <td>0.0000</td>\n",
       "    </tr>\n",
       "    <tr>\n",
       "      <th>1</th>\n",
       "      <td>SDSS</td>\n",
       "      <td>u</td>\n",
       "      <td>3005.0</td>\n",
       "      <td>0.0001</td>\n",
       "    </tr>\n",
       "    <tr>\n",
       "      <th>2</th>\n",
       "      <td>SDSS</td>\n",
       "      <td>u</td>\n",
       "      <td>3030.0</td>\n",
       "      <td>0.0005</td>\n",
       "    </tr>\n",
       "    <tr>\n",
       "      <th>3</th>\n",
       "      <td>SDSS</td>\n",
       "      <td>u</td>\n",
       "      <td>3055.0</td>\n",
       "      <td>0.0013</td>\n",
       "    </tr>\n",
       "    <tr>\n",
       "      <th>4</th>\n",
       "      <td>SDSS</td>\n",
       "      <td>u</td>\n",
       "      <td>3080.0</td>\n",
       "      <td>0.0026</td>\n",
       "    </tr>\n",
       "  </tbody>\n",
       "</table>\n",
       "</div>"
      ],
      "text/plain": [
       "  survey filter  wavelength  response\n",
       "0   SDSS      u      2980.0    0.0000\n",
       "1   SDSS      u      3005.0    0.0001\n",
       "2   SDSS      u      3030.0    0.0005\n",
       "3   SDSS      u      3055.0    0.0013\n",
       "4   SDSS      u      3080.0    0.0026"
      ]
     },
     "execution_count": 6,
     "metadata": {},
     "output_type": "execute_result"
    }
   ],
   "source": [
    "df.head()"
   ]
  },
  {
   "cell_type": "code",
   "execution_count": 7,
   "metadata": {},
   "outputs": [],
   "source": [
    "df.to_csv(path_or_buf=\"../data/filters.csv\", index=False)"
   ]
  }
 ],
 "metadata": {
  "kernelspec": {
   "display_name": "Python 2",
   "language": "python",
   "name": "python2"
  },
  "language_info": {
   "codemirror_mode": {
    "name": "ipython",
    "version": 2
   },
   "file_extension": ".py",
   "mimetype": "text/x-python",
   "name": "python",
   "nbconvert_exporter": "python",
   "pygments_lexer": "ipython2",
   "version": "2.7.14"
  }
 },
 "nbformat": 4,
 "nbformat_minor": 2
}
