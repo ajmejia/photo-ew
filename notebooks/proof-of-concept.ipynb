{
 "cells": [
  {
   "cell_type": "code",
   "execution_count": 1,
   "metadata": {},
   "outputs": [
    {
     "name": "stdout",
     "output_type": "stream",
     "text": [
      "Populating the interactive namespace from numpy and matplotlib\n"
     ]
    }
   ],
   "source": [
    "%pylab inline\n",
    "\n",
    "import os\n",
    "import pandas as pd\n",
    "from collections import OrderedDict\n",
    "from astropy.io import fits\n",
    "from copy import deepcopy as copy\n",
    "from scipy.ndimage import median_filter, gaussian_filter\n",
    "from styles import slides"
   ]
  },
  {
   "cell_type": "code",
   "execution_count": 96,
   "metadata": {
    "collapsed": true
   },
   "outputs": [],
   "source": [
    "def merge_stellar_nebular(fits_object):\n",
    "    #wl_ste = array([fits_object[0].header[\"CRVAL1\"]+i*fits_object[0].header[\"CDELT1\"] for i in xrange(fits_object[0].header[\"NAXIS1\"])])\n",
    "    wl_ste = fits_object[3].data[\"BFIT\"]\n",
    "    fl_ste = fits_object[0].data.T\n",
    "    #wl_ste = gaussian_filter(wl, 0.4247*fits_object[0].header[\"H_WRESOL\"])\n",
    "    wl_lin = fits_object[1].data[\"WAVE\"]\n",
    "    fl_lin = fits_object[1].data[\"FLUXLINE\"]\n",
    "    wl_tot = concatenate((wl_ste,wl_lin))\n",
    "    sort_wl = argsort(wl_tot)\n",
    "    \n",
    "    # interpolate stellar SED in lines wavelenths\n",
    "    # fill with zeros SED fluxes in line wavelengths beyond original SED\n",
    "    fl_ste_tot = zeros((wl_tot.size, fl_ste.shape[1]))\n",
    "\n",
    "    if set(wl_ste).issubset(set(wl_lin)):\n",
    "        fl_ste_tot[:fl_ste.size] = fl_ste\n",
    "    else:\n",
    "        for j in xrange(fl_ste_tot.shape[1]): fl_ste_tot[:,j] = interp(wl_tot[sort_wl], wl_ste, fl_ste[:,j], left=0.0, right=0.0)\n",
    "    \n",
    "    # fill with zeros line fluxes in SED wavelengths\n",
    "    fl_lin_tot = zeros((wl_tot.size, fl_ste.shape[1]))\n",
    "    fl_lin_tot[-wl_lin.size:] = fl_lin\n",
    "    fl_lin_tot = fl_lin_tot[sort_wl]\n",
    "    \n",
    "    df = pd.DataFrame(fl_ste_tot+fl_lin_tot, index=wl_tot[sort_wl])\n",
    "    \n",
    "    return df"
   ]
  },
  {
   "cell_type": "code",
   "execution_count": 86,
   "metadata": {},
   "outputs": [],
   "source": [
    "rdir = os.path.expandvars(\"$HOME/Research/photometric-ew\")\n",
    "\n",
    "f = fits.open(rdir+\"/models/PEGASE/SB_4_Salp_P2.fits\")"
   ]
  },
  {
   "cell_type": "code",
   "execution_count": 87,
   "metadata": {},
   "outputs": [
    {
     "name": "stdout",
     "output_type": "stream",
     "text": [
      "Filename: /home/mejia/Research/photometric-ew/models/PEGASE/SB_4_Salp_P2.fits\n",
      "No.    Name      Ver    Type      Cards   Dimensions   Format\n",
      "  0  ETS_CONTINUUM    1 PrimaryHDU      60   (1221, 68)   float32   \n",
      "  1  ETS_LINES     1 BinTableHDU     15   61R x 2C   [1D,   68E]   \n",
      "  2  ETS_PARA      1 BinTableHDU     63   68R x 19C   [1E, 1E, 1E, 1E, 1E, 1E, 1E, 1E, 1E, 1E, 1E, 1E, 1E, 1E, 1E, 1E, 1E, 1E, 1E]   \n",
      "  3  ETS_CONT_WCA    1 BinTableHDU     16   1221R x 1C   [1D]   \n"
     ]
    }
   ],
   "source": [
    "f.info()"
   ]
  },
  {
   "cell_type": "code",
   "execution_count": 88,
   "metadata": {},
   "outputs": [
    {
     "data": {
      "text/plain": [
       "(68, 1221)"
      ]
     },
     "execution_count": 88,
     "metadata": {},
     "output_type": "execute_result"
    }
   ],
   "source": [
    "f[0].data.shape"
   ]
  },
  {
   "cell_type": "code",
   "execution_count": 89,
   "metadata": {},
   "outputs": [
    {
     "data": {
      "text/plain": [
       "SIMPLE  =                    T / file does conform to FITS standard             \n",
       "BITPIX  =                  -32 / number of bits per data pixel                  \n",
       "NAXIS   =                    2 / number of data axes                            \n",
       "NAXIS1  =                 1221 / length of data axis 1                          \n",
       "NAXIS2  =                   68 / length of data axis 2                          \n",
       "EXTEND  =                    T / FITS dataset may contain extensions            \n",
       "COMMENT   FITS (Flexible Image Transport System) format is defined in 'Astronomy\n",
       "COMMENT   and Astrophysics', volume 376, page 359; bibcode: 2001A&A...376..359H \n",
       "EXTNAME = 'ETS_CONTINUUM'                                                       \n",
       "CTYPE1  = 'WAVE    '           / 1st axis is wavelength                         \n",
       "CTYPE2  = 'AGE     '           / 2nd axis is age                                \n",
       "BUNIT   = 'LSUN/0.1nm'         / Unit of data                                   \n",
       "H_CONTXT= 'ETS     '           / Evolutive template spectra                     \n",
       "COMMENT               PEGASE-HR                                                 \n",
       "AUTHOR  = 'PEGASEHR Team'                                                       \n",
       "REFERENC= '2004, A&A xxx, xxx'                                                  \n",
       "REFCODE = '2004A&A...xxx..xxx'                                                  \n",
       "EMAIL   = 'leborgne@iap.fr'                                                     \n",
       "COMMENT --------- DESCRIPTION OF THE SCENARIO --------------                    \n",
       "COMMENT Ejecta of massive stars: SNII (model B of Woosley & Weaver [1995]) + ste\n",
       "COMMENT llar winds                                                              \n",
       "COMMENT Initial mass function: IMF_Salpeter.dat from   0.1000 to 120.0000 solar \n",
       "COMMENT masses                                                                  \n",
       "COMMENT Evolutionary tracks: tracksZ0.0001.dat                                  \n",
       "COMMENT Metallicity (mass fraction): .0001                                      \n",
       "COMMENT Evolutionary tracks: tracksZ0.0004.dat                                  \n",
       "COMMENT Metallicity (mass fraction): .0004                                      \n",
       "COMMENT Evolutionary tracks: tracksZ0.004.dat                                   \n",
       "COMMENT Metallicity (mass fraction): .0040                                      \n",
       "COMMENT Evolutionary tracks: tracksZ0.008.dat                                   \n",
       "COMMENT Metallicity (mass fraction): .0080                                      \n",
       "COMMENT Evolutionary tracks: tracksZ0.02.dat                                    \n",
       "COMMENT Metallicity (mass fraction): .0200                                      \n",
       "COMMENT Evolutionary tracks: tracksZ0.05.dat                                    \n",
       "COMMENT Metallicity (mass fraction): .0500                                      \n",
       "COMMENT Evolutionary tracks: tracksZ0.1.dat                                     \n",
       "COMMENT Metallicity (mass fraction): .1000                                      \n",
       "COMMENT Fraction of close binary systems: 0.50000E-01                           \n",
       "COMMENT Initial metallicity: 0.00000E+00                                        \n",
       "COMMENT No infall                                                               \n",
       "COMMENT Type of star formation:   0                                             \n",
       "COMMENT No evolution of the stellar metallicity                                 \n",
       "COMMENT Stellar metallicity: 0.20000E-01                                        \n",
       "COMMENT Mass fraction of substellar objects: 0.00000E+00                        \n",
       "COMMENT No galactic winds                                                       \n",
       "COMMENT Nebular emission                                                        \n",
       "COMMENT No extinction                                                           \n",
       "COMMENT ---------- DESCRIPTION OF THE FILE STRUCTURE  -------------             \n",
       "COMMENT This file consists in 3 or 4 Header Data Units                          \n",
       "COMMENT The primary HDU contains the spectra, first axis is the wavelength      \n",
       "COMMENT direction and the second axis is the Age                                \n",
       "COMMENT The HDU named ETS_LINES lists the emission lines and their              \n",
       "COMMENT equivalent width                                                        \n",
       "COMMENT The HDU named ETS_PARA gives the characteristics of each spectrum       \n",
       "COMMENT Age in Myr, total mas in stars...                                       \n",
       "COMMENT If the wavelength sampling is not linear, a fourth HDU, named           \n",
       "COMMENT If present, ETS_CONT_WCA contains the \"dispersion relation\",            \n",
       "COMMENT which is the list of wavelengths of each pixels                         \n",
       "COMMENT --------------------------------------------------                      \n",
       "H_WCALIB= '[ETS_CONT_WCA]'     / Pointer to WCA                                 "
      ]
     },
     "execution_count": 89,
     "metadata": {},
     "output_type": "execute_result"
    }
   ],
   "source": [
    "f[0].header"
   ]
  },
  {
   "cell_type": "code",
   "execution_count": 90,
   "metadata": {},
   "outputs": [
    {
     "data": {
      "text/plain": [
       "XTENSION= 'BINTABLE'           / binary table extension                         \n",
       "BITPIX  =                    8 / 8-bit bytes                                    \n",
       "NAXIS   =                    2 / 2-dimensional binary table                     \n",
       "NAXIS1  =                  280 / width of table in bytes                        \n",
       "NAXIS2  =                   61 / number of rows in table                        \n",
       "PCOUNT  =                    0 / size of special data area                      \n",
       "GCOUNT  =                    1 / one data group (required keyword)              \n",
       "TFIELDS =                    2 / number of fields in each row                   \n",
       "TTYPE1  = 'WAVE    '           / label for field   1                            \n",
       "TFORM1  = '1D      '           / data format of field: 8-byte DOUBLE            \n",
       "TUNIT1  = '0.1nm   '           / physical unit of field                         \n",
       "TTYPE2  = 'FLUXLINE'           / label for field   2                            \n",
       "TFORM2  = '  68E   '           / data format of field: 4-byte REAL              \n",
       "TUNIT2  = '??      '           / physical unit of field                         \n",
       "EXTNAME = 'ETS_LINES'          / name of this binary table extension            "
      ]
     },
     "execution_count": 90,
     "metadata": {},
     "output_type": "execute_result"
    }
   ],
   "source": [
    "f[1].header"
   ]
  },
  {
   "cell_type": "code",
   "execution_count": 97,
   "metadata": {},
   "outputs": [],
   "source": [
    "SEDs = merge_stellar_nebular(f)"
   ]
  },
  {
   "cell_type": "code",
   "execution_count": 98,
   "metadata": {},
   "outputs": [
    {
     "data": {
      "text/plain": [
       "(0, 0.02)"
      ]
     },
     "execution_count": 98,
     "metadata": {},
     "output_type": "execute_result"
    },
    {
     "data": {
      "image/png": "[encoded data removed]",
      "text/plain": [
       "<matplotlib.figure.Figure at 0x7f7ac5c1d2d0>"
      ]
     },
     "metadata": {},
     "output_type": "display_data"
    }
   ],
   "source": [
    "axvline(6562.8, ls=\"-\", lw=0.75, color=\"0.7\")\n",
    "SEDs.get(10).plot(lw=0.5)\n",
    "ax = gca()\n",
    "ax.set_xlim(1200,12000)\n",
    "ax.set_ylim(0,0.02)"
   ]
  }
 ],
 "metadata": {
  "kernelspec": {
   "display_name": "Python 2",
   "language": "python",
   "name": "python2"
  },
  "language_info": {
   "codemirror_mode": {
    "name": "ipython",
    "version": 2
   },
   "file_extension": ".py",
   "mimetype": "text/x-python",
   "name": "python",
   "nbconvert_exporter": "python",
   "pygments_lexer": "ipython2",
   "version": "2.7.14"
  }
 },
 "nbformat": 4,
 "nbformat_minor": 2
}
