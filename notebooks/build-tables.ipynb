{
 "cells": [
  {
   "cell_type": "code",
   "execution_count": 1,
   "metadata": {},
   "outputs": [
    {
     "name": "stdout",
     "output_type": "stream",
     "text": [
      "Populating the interactive namespace from numpy and matplotlib\n"
     ]
    }
   ],
   "source": [
    "%pylab inline\n",
    "\n",
    "import os\n",
    "import pandas as pd\n",
    "from collections import OrderedDict\n",
    "from astropy.io import fits\n",
    "from copy import deepcopy as copy\n",
    "from scipy.optimize import leastsq\n",
    "from styles import slides"
   ]
  },
  {
   "cell_type": "code",
   "execution_count": 2,
   "metadata": {
    "collapsed": true
   },
   "outputs": [],
   "source": [
    "def nearest(a, b):\n",
    "    return np.argmin(np.abs(a-b))"
   ]
  },
  {
   "cell_type": "code",
   "execution_count": 3,
   "metadata": {},
   "outputs": [],
   "source": [
    "rdir = os.path.expandvars(\"$HOME/Research/photometric-ew\")\n",
    "flist = sorted([os.path.join(root,file) for root, subs, files in os.walk(rdir+\"/data/fits\") for file in files if file.endswith(\".fit.gz\")])\n",
    "\n",
    "line_ids = pd.read_csv(\"{}/data/fits_hdu2.csv\".format(rdir), index_col=\"ID\")\n",
    "line_ids.sort_values(by=\"restWave\", inplace=True)\n",
    "\n",
    "fits_nms = [name.split(\"/\")[-1] for name in flist]\n",
    "\n",
    "#rows = OrderedDict(zip(line_nms,line_ids))\n",
    "ew = OrderedDict([(kw,[]) for kw in line_ids.index])\n",
    "er = OrderedDict([(kw,[]) for kw in line_ids.index])\n",
    "z, mags = [], OrderedDict([(kw,[]) for kw in \"u g r i z\".split()])"
   ]
  },
  {
   "cell_type": "code",
   "execution_count": 4,
   "metadata": {},
   "outputs": [],
   "source": [
    "for fn in flist:\n",
    "    with fits.open(fn) as f:\n",
    "        z.append(f[0].header[\"z\"])\n",
    "        mag = map(eval,f[0].header[\"MAG\"].split())\n",
    "        for j,kw in enumerate(mags.keys()):\n",
    "            mags[kw] += [mag[j]]\n",
    "        \n",
    "        for kw in line_ids.index:\n",
    "            ew[kw] += [f[2].data[\"ew\"][nearest(f[2].data[\"restWave\"],line_ids.restWave[kw])]]\n",
    "            er[kw] += [f[2].data[\"ewErr\"][nearest(f[2].data[\"restWave\"],line_ids.restWave[kw])]]"
   ]
  },
  {
   "cell_type": "code",
   "execution_count": 5,
   "metadata": {
    "collapsed": true
   },
   "outputs": [],
   "source": [
    "table_dat = OrderedDict()\n",
    "table_dat[\"FITS\"] = fits_nms\n",
    "table_dat.update(ew)\n",
    "table_dat.update(mags)\n",
    "table_dat[\"redshift\"] = z\n",
    "\n",
    "df_dat = pd.DataFrame(table_dat)\n",
    "df_dat.replace(-9999.0, np.nan, inplace=True)\n",
    "df_dat.to_csv(\"{}/data/photo-speclines.csv\".format(rdir), index=False)\n",
    "\n",
    "table_err = OrderedDict()\n",
    "table_err[\"FITS\"] = fits_nms\n",
    "table_err.update(er)\n",
    "\n",
    "df_err = pd.DataFrame(table_err)\n",
    "df_err.replace(-9999.0, np.nan, inplace=True)\n",
    "df_err.to_csv(\"{}/data/photo-speclines_err.csv\".format(rdir), index=False)"
   ]
  }
 ],
 "metadata": {
  "kernelspec": {
   "display_name": "Python 2",
   "language": "python",
   "name": "python2"
  },
  "language_info": {
   "codemirror_mode": {
    "name": "ipython",
    "version": 2
   },
   "file_extension": ".py",
   "mimetype": "text/x-python",
   "name": "python",
   "nbconvert_exporter": "python",
   "pygments_lexer": "ipython2",
   "version": "2.7.14"
  }
 },
 "nbformat": 4,
 "nbformat_minor": 1
}
