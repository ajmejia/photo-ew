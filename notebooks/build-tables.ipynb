{
 "cells": [
  {
   "cell_type": "code",
   "execution_count": 1,
   "metadata": {},
   "outputs": [
    {
     "name": "stdout",
     "output_type": "stream",
     "text": [
      "Populating the interactive namespace from numpy and matplotlib\n"
     ]
    }
   ],
   "source": [
    "%pylab inline\n",
    "\n",
    "import os\n",
    "import pandas as pd\n",
    "from collections import OrderedDict\n",
    "from astropy.io import fits\n",
    "from copy import deepcopy as copy\n",
    "from scipy.optimize import leastsq\n",
    "from styles import slides"
   ]
  },
  {
   "cell_type": "code",
   "execution_count": 2,
   "metadata": {},
   "outputs": [],
   "source": [
    "rdir = os.path.expandvars(\"$HOME/Research/photometric-ew\")\n",
    "flist = sorted([os.path.join(root,file) for root, subs, files in os.walk(rdir+\"/data/fits\") for file in files if file.endswith(\".fit.gz\")])\n",
    "\n",
    "line_ids = [1,2,5,6,10,13,16,17,24,26,27,28,29,30,35,36,37,38,39,40]\n",
    "with fits.open(flist[0]) as f: line_rwl = f[2].data[\"restWave\"][line_ids]\n",
    "line_nms = \"Lyalpha\", \"NV\", \"SiIV\", \"CIV\", \"CIII\", \"MgII\", \"OII3727\", \"OII3730\", \"Hdelta\", \"Hgamma\", \"OIII4364\", \"Hbeta\", \"OIII4960\", \"OIII5008\", \"NII6550\", \"Halpha\", \"NII6585\", \"Li\", \"SII6728\", \"SII6733\"\n",
    "band_nms = \"u g r i z\".split()\n",
    "fits_nms = [name.split(\"/\")[-1] for name in flist]\n",
    "\n",
    "rows = OrderedDict(zip(line_nms,line_ids))\n",
    "ew = OrderedDict(zip(line_nms,([],[],[],[],[],[],[],[],[],[],[],[],[],[],[],[],[],[],[],[])))\n",
    "er = OrderedDict(zip(line_nms,([],[],[],[],[],[],[],[],[],[],[],[],[],[],[],[],[],[],[],[])))\n",
    "\n",
    "z, mags = [], OrderedDict(zip(band_nms,([],[],[],[],[])))\n",
    "for fn in flist:\n",
    "    with fits.open(fn) as f:\n",
    "        z.append(f[0].header[\"z\"])\n",
    "        mag = map(eval,f[0].header[\"MAG\"].split())\n",
    "        for j,kw in enumerate(band_nms):\n",
    "            mags[kw] += [mag[j]]\n",
    "        for kw in ew:\n",
    "            ew[kw] += [f[2].data[\"ew\"][rows[kw]]]\n",
    "            er[kw] += [f[2].data[\"ewErr\"][rows[kw]]]"
   ]
  },
  {
   "cell_type": "code",
   "execution_count": 6,
   "metadata": {},
   "outputs": [],
   "source": [
    "table_dat = OrderedDict()\n",
    "table_dat[\"FITS\"] = fits_nms\n",
    "table_dat.update(ew)\n",
    "table_dat.update(mags)\n",
    "table_dat[\"redshift\"] = z\n",
    "\n",
    "df_dat = pd.DataFrame(table_dat)\n",
    "df_dat.to_csv(\"{}/data/photo-speclines.csv\".format(rdir))\n",
    "\n",
    "table_err = OrderedDict()\n",
    "table_err[\"FITS\"] = fits_nms\n",
    "table_err.update(er)\n",
    "\n",
    "df_err = pd.DataFrame(table_err)\n",
    "df_err.to_csv(\"{}/data/photo-speclines_err.csv\".format(rdir))"
   ]
  }
 ],
 "metadata": {
  "kernelspec": {
   "display_name": "Python 2",
   "language": "python",
   "name": "python2"
  },
  "language_info": {
   "codemirror_mode": {
    "name": "ipython",
    "version": 2
   },
   "file_extension": ".py",
   "mimetype": "text/x-python",
   "name": "python",
   "nbconvert_exporter": "python",
   "pygments_lexer": "ipython2",
   "version": "2.7.14"
  }
 },
 "nbformat": 4,
 "nbformat_minor": 1
}
