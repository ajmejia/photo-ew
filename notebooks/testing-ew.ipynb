{
 "cells": [
  {
   "cell_type": "code",
   "execution_count": 1,
   "metadata": {},
   "outputs": [
    {
     "name": "stdout",
     "output_type": "stream",
     "text": [
      "Populating the interactive namespace from numpy and matplotlib\n"
     ]
    }
   ],
   "source": [
    "%pylab inline\n",
    "\n",
    "import os\n",
    "from styles import slides\n",
    "from astropy.io import fits\n",
    "from tools.EW import equivalent_width\n",
    "import pandas as pd"
   ]
  },
  {
   "cell_type": "code",
   "execution_count": 2,
   "metadata": {},
   "outputs": [
    {
     "name": "stdout",
     "output_type": "stream",
     "text": [
      "<class 'pandas.core.frame.DataFrame'>\n",
      "Index: 34462 entries, spSpec-51602-0266-012.fit.gz to spSpec-54650-2833-231.fit.gz\n",
      "Data columns (total 50 columns):\n",
      "OVI         0 non-null float64\n",
      "Ly_alpha    0 non-null float64\n",
      "NV          0 non-null float64\n",
      "OI1306      0 non-null float64\n",
      "CII1335     0 non-null float64\n",
      "SiIV+OIV    0 non-null float64\n",
      "CIV         0 non-null float64\n",
      "HeII        0 non-null float64\n",
      "OIII1665    0 non-null float64\n",
      "AlIII       0 non-null float64\n",
      "CIII        0 non-null float64\n",
      "CII2326     0 non-null float64\n",
      "NeIV        0 non-null float64\n",
      "MgII        0 non-null float64\n",
      "NeV3347     0 non-null float64\n",
      "NeV3427     0 non-null float64\n",
      "OII3727     33204 non-null float64\n",
      "OII3730     33227 non-null float64\n",
      "H_eta       34409 non-null float64\n",
      "H_zeta      34430 non-null float64\n",
      "HeI         34435 non-null float64\n",
      "CaIIK       34432 non-null float64\n",
      "CaIIH       34447 non-null float64\n",
      "SII         34458 non-null float64\n",
      "H_delta     34458 non-null float64\n",
      "G           34461 non-null float64\n",
      "H_gamma     34462 non-null float64\n",
      "OIII4364    34461 non-null float64\n",
      "H_beta      34462 non-null float64\n",
      "OIII4960    34462 non-null float64\n",
      "OIII5008    34462 non-null float64\n",
      "Mg          34462 non-null float64\n",
      "Na          34448 non-null float64\n",
      "OI6302      34438 non-null float64\n",
      "OI6366      34433 non-null float64\n",
      "NII6550     34411 non-null float64\n",
      "H_alpha     34436 non-null float64\n",
      "NII6585     34406 non-null float64\n",
      "Li          34409 non-null float64\n",
      "SII6718     34413 non-null float64\n",
      "SII6733     34411 non-null float64\n",
      "CaII8500    26338 non-null float64\n",
      "CaII8544    22844 non-null float64\n",
      "CaII8665    15311 non-null float64\n",
      "u           34462 non-null float64\n",
      "g           34462 non-null float64\n",
      "r           34462 non-null float64\n",
      "i           34462 non-null float64\n",
      "z           34462 non-null float64\n",
      "redshift    34462 non-null float64\n",
      "dtypes: float64(50)\n",
      "memory usage: 13.4+ MB\n"
     ]
    }
   ],
   "source": [
    "rdir = os.path.expandvars(\"$HOME/Research/photometric-ew\")\n",
    "\n",
    "EWs = pd.read_csv(\"{}/data/photo-speclines.csv\".format(rdir), index_col=\"FITS\")\n",
    "EWs.info()"
   ]
  },
  {
   "cell_type": "code",
   "execution_count": 3,
   "metadata": {
    "collapsed": true
   },
   "outputs": [],
   "source": [
    "fits_names = EWs.index.values\n",
    "ur = EWs.u-EWs.r\n",
    "mask = ur<2.22\n",
    "\n",
    "ew_neb_mine = []\n",
    "ew_neb_sdss = []\n",
    "redshift = []\n",
    "for i in xrange(500):\n",
    "    with fits.open(\"{}/data/fits/{}\".format(rdir, fits_names[mask][i])) as f:\n",
    "        wlen = array([10**(f[0].header[\"COEFF0\"]+f[0].header[\"COEFF1\"]*j) for j in xrange(f[0].header[\"NAXIS1\"])])\n",
    "        #wlen /= 1.0 + 2.735182E-4 + 131.4182 / wlen**2 + 2.76249E8 / wlen**4\n",
    "        flux = f[0].data[0]*1e-17\n",
    "        sed_ = column_stack((wlen,flux))\n",
    "        #print f[2].data[\"wave\"][36]/(f[0].header[\"Z\"]+1), f[2].data[\"restWave\"][36]\n",
    "        #ew_neb_mine += [equivalent_width(sed_, (6564.61/(1.0 + 2.735182E-4 + 131.4182 / f[2].data[\"Wave\"][36]**2 + 2.76249E8 / f[2].data[\"Wave\"][36]**4),), (100,))[0]]\n",
    "        ew_neb_mine += [equivalent_width(sed_, (6564.61*(f[0].header[\"Z\"]+1),), (20*(f[0].header[\"Z\"]+1),))[0]]\n",
    "        ew_neb_sdss += [abs(EWs.H_alpha.values[mask][i])]\n",
    "        redshift += [f[0].header[\"Z\"]]\n",
    "\n",
    "ew_neb_mine = array(ew_neb_mine)\n",
    "ew_neb_sdss = array(ew_neb_sdss)\n",
    "redshift = array(redshift)"
   ]
  },
  {
   "cell_type": "code",
   "execution_count": 4,
   "metadata": {},
   "outputs": [
    {
     "data": {
      "text/plain": [
       "Text(0,0.5,u'$N$')"
      ]
     },
     "execution_count": 4,
     "metadata": {},
     "output_type": "execute_result"
    },
    {
     "data": {
      "image/png": "[encoded data removed]",
      "text/plain": [
       "<matplotlib.figure.Figure at 0x7f47d47e1e10>"
      ]
     },
     "metadata": {},
     "output_type": "display_data"
    },
    {
     "data": {
      "image/png": "[encoded data removed]",
      "text/plain": [
       "<matplotlib.figure.Figure at 0x7f47d47d9250>"
      ]
     },
     "metadata": {},
     "output_type": "display_data"
    }
   ],
   "source": [
    "figure(figsize=(7,7))\n",
    "plot(ew_neb_sdss, ew_neb_mine, \".k\", mew=0)\n",
    "gca().set_aspect(\"equal\")\n",
    "plot([0,1200],[0,1200], ls=(0,(5,5)), color=\"r\", lw=1.0)\n",
    "xlabel(r\"EW (H$\\alpha$)$_\\text{sdss}$ [\\AA]\")\n",
    "ylabel(r\"EW (H$\\alpha$)$_\\text{mine}$ [\\AA]\")\n",
    "\n",
    "\n",
    "figure(figsize=(5,5))\n",
    "hist((ew_neb_mine-ew_neb_sdss)*100./ew_neb_sdss, 20, range=(-100,+100))\n",
    "xlabel(r\"error(EW) [\\%]\")\n",
    "ylabel(r\"$N$\")"
   ]
  }
 ],
 "metadata": {
  "kernelspec": {
   "display_name": "Python 2",
   "language": "python",
   "name": "python2"
  },
  "language_info": {
   "codemirror_mode": {
    "name": "ipython",
    "version": 2
   },
   "file_extension": ".py",
   "mimetype": "text/x-python",
   "name": "python",
   "nbconvert_exporter": "python",
   "pygments_lexer": "ipython2",
   "version": "2.7.14"
  }
 },
 "nbformat": 4,
 "nbformat_minor": 2
}
